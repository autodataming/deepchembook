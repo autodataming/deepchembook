{
 "cells": [
  {
   "cell_type": "markdown",
   "metadata": {
    "colab_type": "text",
    "id": "m0jRtbRGsoZy"
   },
   "source": [
    "# Tutorial Part 27: Using Reinforcement Learning to Play Pong\n",
    "\n",
    "This tutorial demonstrates using reinforcement learning to train an agent to play Pong.  This task isn't directly related to chemistry, but video games make an excellent demonstration of reinforcement learning techniques.\n",
    "\n",
    "![title](pong.png)\n",
    "\n",
    "## Colab\n",
    "\n",
    "This tutorial and the rest in this sequence can be done in Google Colab (although the visualization at the end doesn't work correctly on Colab, so you might prefer to run this tutorial locally). If you'd like to open this notebook in colab, you can use the following link.\n",
    "\n",
    "[![Open In Colab](https://colab.research.google.com/assets/colab-badge.svg)](https://colab.research.google.com/github/deepchem/deepchem/blob/master/examples/tutorials/27_Using_Reinforcement_Learning_to_Play_Pong.ipynb)\n",
    "\n",
    "## Setup\n",
    "\n",
    "To run DeepChem within Colab, you'll need to run the following cell of installation commands. This will take about 5 minutes to run to completion and install your environment. To install `gym` you should also use `pip install 'gym[atari]'` (We need the extra modifier since we'll be using an atari game). We'll add this command onto our usual Colab installation commands for you"
   ]
  },
  {
   "cell_type": "code",
   "execution_count": null,
   "metadata": {
    "colab": {
     "base_uri": "https://localhost:8080/",
     "height": 170
    },
    "colab_type": "code",
    "id": "qXdmcnhtst-z",
    "outputId": "5c7cf904-0f5c-41d8-c404-75258bafca86"
   },
   "outputs": [],
   "source": [
    "!curl -Lo conda_installer.py https://raw.githubusercontent.com/deepchem/deepchem/master/scripts/colab_install.py\n",
    "import conda_installer\n",
    "conda_installer.install()\n",
    "!/root/miniconda/bin/conda info -e"
   ]
  },
  {
   "cell_type": "code",
   "execution_count": null,
   "metadata": {
    "colab": {
     "base_uri": "https://localhost:8080/",
     "height": 188
    },
    "colab_type": "code",
    "id": "-1kpETs2GnbI",
    "outputId": "dc8d5ae6-a0d7-4236-8168-8b615806ce41"
   },
   "outputs": [],
   "source": [
    "!pip install --pre deepchem\n",
    "import deepchem\n",
    "deepchem.__version__"
   ]
  },
  {
   "cell_type": "code",
   "execution_count": null,
   "metadata": {
    "colab": {
     "base_uri": "https://localhost:8080/",
     "height": 187
    },
    "colab_type": "code",
    "id": "9sv6kX_VsoZ1",
    "outputId": "ce4206d5-7917-4cad-c716-238a41f78e2a"
   },
   "outputs": [],
   "source": [
    "!pip install 'gym[atari]'"
   ]
  },
  {
   "cell_type": "markdown",
   "metadata": {},
   "source": [
    "## Reinforcement Learning\n",
    "\n",
    "Reinforcement learning involves an *agent* that interacts with an *environment*.  In this case, the environment is the video game and the agent is the player.  By trial and error, the agent learns a *policy* that it follows to perform some task (winning the game).  As it plays, it receives *rewards* that give it feedback on how well it is doing.  In this case, it receives a positive reward every time it scores a point and a negative reward every time the other player scores a point.\n",
    "\n",
    "The first step is to create an `Environment` that implements this task.  Fortunately,\n",
    "OpenAI Gym already provides an implementation of Pong (and many other tasks appropriate\n",
    "for reinforcement learning).  DeepChem's `GymEnvironment` class provides an easy way to\n",
    "use environments from OpenAI Gym.  We could just use it directly, but in this case we\n",
    "subclass it and preprocess the screen image a little bit to make learning easier."
   ]
  },
  {
   "cell_type": "code",
   "execution_count": null,
   "metadata": {
    "colab": {},
    "colab_type": "code",
    "id": "EuRrb3vpsoZ_"
   },
   "outputs": [],
   "source": [
    "import deepchem as dc\n",
    "import numpy as np\n",
    "\n",
    "class PongEnv(dc.rl.GymEnvironment):\n",
    "  def __init__(self):\n",
    "    super(PongEnv, self).__init__('Pong-v0')\n",
    "    self._state_shape = (80, 80)\n",
    "  \n",
    "  @property\n",
    "  def state(self):\n",
    "    # Crop everything outside the play area, reduce the image size,\n",
    "    # and convert it to black and white.\n",
    "    cropped = np.array(self._state)[34:194, :, :]\n",
    "    reduced = cropped[0:-1:2, 0:-1:2]\n",
    "    grayscale = np.sum(reduced, axis=2)\n",
    "    bw = np.zeros(grayscale.shape)\n",
    "    bw[grayscale != 233] = 1\n",
    "    return bw\n",
    "\n",
    "  def __deepcopy__(self, memo):\n",
    "    return PongEnv()\n",
    "\n",
    "env = PongEnv()"
   ]
  },
  {
   "cell_type": "markdown",
   "metadata": {
    "colab_type": "text",
    "id": "GNnO3MZ_soaG"
   },
   "source": [
    "Next we create a model to implement our policy.  This model receives the current state of the environment (the pixels being displayed on the screen at this moment) as its input.  Given that input, it decides what action to perform.  In Pong there are three possible actions at any moment: move the paddle up, move it down, or leave it where it is.  The policy model produces a probability distribution over these actions.  It also produces a *value* output, which is interpreted as an estimate of how good the current state is.  This turns out to be important for efficient learning.\n",
    "\n",
    "The model begins with two convolutional layers to process the image.  That is followed by a dense (fully connected) layer to provide plenty of capacity for game logic.  We also add a small Gated Recurrent Unit (GRU).  That gives the network a little bit of memory, so it can keep track of which way the ball is moving.  Just from the screen image, you cannot tell whether the ball is moving to the left or to the right, so having memory is important.\n",
    "\n",
    "We concatenate the dense and GRU outputs together, and use them as inputs to two final layers that serve as the\n",
    "network's outputs.  One computes the action probabilities, and the other computes an estimate of the\n",
    "state value function.\n",
    "\n",
    "We also provide an input for the initial state of the GRU, and return its final state at the end.  This is required by the learning algorithm."
   ]
  },
  {
   "cell_type": "code",
   "execution_count": null,
   "metadata": {
    "colab": {},
    "colab_type": "code",
    "id": "BLdt8WAQsoaH"
   },
   "outputs": [],
   "source": [
    "import tensorflow as tf\n",
    "from tensorflow.keras.layers import Input, Concatenate, Conv2D, Dense, Flatten, GRU, Reshape\n",
    "\n",
    "class PongPolicy(dc.rl.Policy):\n",
    "    def __init__(self):\n",
    "        super(PongPolicy, self).__init__(['action_prob', 'value', 'rnn_state'], [np.zeros(16)])\n",
    "\n",
    "    def create_model(self, **kwargs):\n",
    "        state = Input(shape=(80, 80))\n",
    "        rnn_state = Input(shape=(16,))\n",
    "        conv1 = Conv2D(16, kernel_size=8, strides=4, activation=tf.nn.relu)(Reshape((80, 80, 1))(state))\n",
    "        conv2 = Conv2D(32, kernel_size=4, strides=2, activation=tf.nn.relu)(conv1)\n",
    "        dense = Dense(256, activation=tf.nn.relu)(Flatten()(conv2))\n",
    "        gru, rnn_final_state = GRU(16, return_state=True, return_sequences=True, time_major=True)(\n",
    "            Reshape((-1, 256))(dense), initial_state=rnn_state)\n",
    "        concat = Concatenate()([dense, Reshape((16,))(gru)])\n",
    "        action_prob = Dense(env.n_actions, activation=tf.nn.softmax)(concat)\n",
    "        value = Dense(1)(concat)\n",
    "        return tf.keras.Model(inputs=[state, rnn_state], outputs=[action_prob, value, rnn_final_state])\n",
    "\n",
    "policy = PongPolicy()"
   ]
  },
  {
   "cell_type": "markdown",
   "metadata": {
    "colab_type": "text",
    "id": "YU19h0aUsoaN"
   },
   "source": [
    "We will optimize the policy using the Advantage Actor Critic (A2C) algorithm.  There are lots of hyperparameters we could specify at this point, but the default values for most of them work well on this problem.  The only one we need to customize is the learning rate."
   ]
  },
  {
   "cell_type": "code",
   "execution_count": null,
   "metadata": {
    "colab": {},
    "colab_type": "code",
    "id": "Fw_wu511soaO",
    "scrolled": true
   },
   "outputs": [],
   "source": [
    "from deepchem.models.optimizers import Adam\n",
    "a2c = dc.rl.A2C(env, policy, model_dir='model', optimizer=Adam(learning_rate=0.0002))"
   ]
  },
  {
   "cell_type": "markdown",
   "metadata": {
    "colab_type": "text",
    "id": "-PUD4JG2soaU"
   },
   "source": [
    "Optimize for as long as you have patience to.  By 1 million steps you should see clear signs of learning.  Around 3 million steps it should start to occasionally beat the game's built in AI.  By 7 million steps it should be winning almost every time.  Running on my laptop, training takes about 20 minutes for every million steps."
   ]
  },
  {
   "cell_type": "code",
   "execution_count": null,
   "metadata": {
    "colab": {},
    "colab_type": "code",
    "id": "Wa18EQlmsoaV"
   },
   "outputs": [],
   "source": [
    "# Change this to train as many steps as you have patience for.\n",
    "a2c.fit(1000)"
   ]
  },
  {
   "cell_type": "markdown",
   "metadata": {
    "colab_type": "text",
    "id": "_xHNjusSsoaa"
   },
   "source": [
    "Let's watch it play and see how it does! "
   ]
  },
  {
   "cell_type": "code",
   "execution_count": null,
   "metadata": {
    "colab": {},
    "colab_type": "code",
    "id": "Ud6DB_ndsoab"
   },
   "outputs": [],
   "source": [
    "# This code doesn't work well on Colab\n",
    "env.reset()\n",
    "while not env.terminated:\n",
    "    env.env.render()\n",
    "    env.step(a2c.select_action(env.state))"
   ]
  },
  {
   "cell_type": "markdown",
   "metadata": {
    "colab_type": "text",
    "id": "3MGK4nrhsoah"
   },
   "source": [
    "# Congratulations! Time to join the Community!\n",
    "\n",
    "Congratulations on completing this tutorial notebook! If you enjoyed working through the tutorial, and want to continue working with DeepChem, we encourage you to finish the rest of the tutorials in this series. You can also help the DeepChem community in the following ways:\n",
    "\n",
    "## Star DeepChem on [GitHub](https://github.com/deepchem/deepchem)\n",
    "This helps build awareness of the DeepChem project and the tools for open source drug discovery that we're trying to build.\n",
    "\n",
    "## Join the DeepChem Gitter\n",
    "The DeepChem [Gitter](https://gitter.im/deepchem/Lobby) hosts a number of scientists, developers, and enthusiasts interested in deep learning for the life sciences. Join the conversation!"
   ]
  }
 ],
 "metadata": {
  "colab": {
   "name": "18_Using_Reinforcement_Learning_to_Play_Pong.ipynb",
   "provenance": []
  },
  "kernelspec": {
   "display_name": "Python 3",
   "language": "python",
   "name": "python3"
  },
  "language_info": {
   "codemirror_mode": {
    "name": "ipython",
    "version": 3
   },
   "file_extension": ".py",
   "mimetype": "text/x-python",
   "name": "python",
   "nbconvert_exporter": "python",
   "pygments_lexer": "ipython3",
   "version": "3.7.6"
  }
 },
 "nbformat": 4,
 "nbformat_minor": 1
}
